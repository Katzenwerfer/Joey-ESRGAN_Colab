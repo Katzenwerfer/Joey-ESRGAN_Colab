{
  "nbformat": 4,
  "nbformat_minor": 0,
  "metadata": {
    "colab": {
      "name": "Joey's ESRGAN colab.ipynb",
      "provenance": [],
      "collapsed_sections": [],
      "toc_visible": true,
      "authorship_tag": "ABX9TyP3LKufzgBGgH5sjhMEB3FP",
      "include_colab_link": true
    },
    "kernelspec": {
      "name": "python3",
      "display_name": "Python 3"
    },
    "accelerator": "GPU"
  },
  "cells": [
    {
      "cell_type": "markdown",
      "metadata": {
        "id": "view-in-github",
        "colab_type": "text"
      },
      "source": [
        "<a href=\"https://colab.research.google.com/github/Katzenwerfer/Joey-ESRGAN_Colab/blob/main/Joey's_ESRGAN_colab.ipynb\" target=\"_parent\"><img src=\"https://colab.research.google.com/assets/colab-badge.svg\" alt=\"Open In Colab\"/></a>"
      ]
    },
    {
      "cell_type": "markdown",
      "metadata": {
        "id": "USfFU_DRd2WV"
      },
      "source": [
        "# ESRGAN (Joey's fork) on Colab\r\n",
        "The original repo is here: https://github.com/JoeyBallentine/ESRGAN <br> \r\n",
        "Notebook edited by Katzenwerfer (https://github.com/Katzenwerfer) <br>\r\n",
        "Original notebook is here: https://colab.research.google.com/github/AhabbscienceStudioPak/ESRGAN/blob/master/ESRGAN_Colab.ipynb"
      ]
    },
    {
      "cell_type": "code",
      "metadata": {
        "id": "vLQl6-mrdq1R"
      },
      "source": [
        "#@title Use this if you want to know which GPU you were assigned { display-mode: \"form\" }\r\n",
        "\r\n",
        "!nvidia-smi"
      ],
      "execution_count": null,
      "outputs": []
    },
    {
      "cell_type": "code",
      "metadata": {
        "id": "6NCi_jLBfGEu"
      },
      "source": [
        "#@title Setup the repository, *check if the dependencies are installed*, etc. { display-mode: \"form\" }\r\n",
        "\r\n",
        "!git clone https://github.com/JoeyBallentine/ESRGAN\r\n",
        "!rm /content/ESRGAN/input/baboon.png\r\n",
        "!rm /content/ESRGAN/output/baboon_ESRGAN.png"
      ],
      "execution_count": null,
      "outputs": []
    },
    {
      "cell_type": "code",
      "metadata": {
        "id": "v6-jqQKGPj2k"
      },
      "source": [
        "#@title Upload your file { display-mode: \"form\" }\r\n",
        "\r\n",
        "%cd /content/ESRGAN/input/\r\n",
        "\r\n",
        "from google.colab import files\r\n",
        "uploaded = files.upload() \r\n",
        "for filename in uploaded.keys():\r\n",
        "  print('User uploaded file \"{name}\" with {length} bytes'.format(name=filename, length=len(uploaded[filename])))"
      ],
      "execution_count": null,
      "outputs": []
    },
    {
      "cell_type": "code",
      "metadata": {
        "id": "kVcXRjbbWux4"
      },
      "source": [
        "#@title Upload your model { display-mode: \"form\" }\r\n",
        "\r\n",
        "%cd /content/ESRGAN/models/\r\n",
        "from google.colab import files\r\n",
        "uploaded = files.upload() \r\n",
        "for filename in uploaded.keys():\r\n",
        "  print('User uploaded model \"{name}\" with {length} bytes'.format(name=filename, length=len(uploaded[filename])))"
      ],
      "execution_count": null,
      "outputs": []
    },
    {
      "cell_type": "code",
      "metadata": {
        "id": "opD14SNpWvRE"
      },
      "source": [
        "#@title Upscale the image { display-mode: \"form\" }\r\n",
        "\r\n",
        "!python /content/ESRGAN/upscale.py /content/ESRGAN/models/*.pth --input /content/ESRGAN/input/ --output /content/ESRGAN/output/\r\n",
        "!echo \"The upscaled image is located inside /content/ESRGAN/output\""
      ],
      "execution_count": null,
      "outputs": []
    },
    {
      "cell_type": "code",
      "metadata": {
        "id": "4leTyqV3mWRA"
      },
      "source": [
        "#@title Download your image { display-mode: \"form\" }\r\n",
        "\r\n",
        "from google.colab import files\r\n",
        "!zip -r output.zip /content/ESRGAN/output\r\n",
        "files.download('output.zip')"
      ],
      "execution_count": null,
      "outputs": []
    }
  ]
}