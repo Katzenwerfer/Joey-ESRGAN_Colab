{
  "nbformat": 4,
  "nbformat_minor": 0,
  "metadata": {
    "colab": {
      "name": "Joey's ESRGAN colab.ipynb",
      "provenance": [],
      "collapsed_sections": [],
      "toc_visible": true,
      "authorship_tag": "ABX9TyMziNauYXSvJoStL/GjdKbT",
      "include_colab_link": true
    },
    "kernelspec": {
      "name": "python3",
      "display_name": "Python 3"
    },
    "accelerator": "GPU"
  },
  "cells": [
    {
      "cell_type": "markdown",
      "metadata": {
        "id": "view-in-github",
        "colab_type": "text"
      },
      "source": [
        "<a href=\"https://colab.research.google.com/github/Katzenwerfer/Joey-ESRGAN_Colab/blob/main/Joey's_ESRGAN_colab.ipynb\" target=\"_parent\"><img src=\"https://colab.research.google.com/assets/colab-badge.svg\" alt=\"Open In Colab\"/></a>"
      ]
    },
    {
      "cell_type": "markdown",
      "metadata": {
        "id": "USfFU_DRd2WV"
      },
      "source": [
        "# ESRGAN (Joey's fork) on Colab\r\n",
        "The original repo is here: https://github.com/JoeyBallentine/ESRGAN <br> \r\n",
        "Notebook edited by Katzenwerfer (https://github.com/Katzenwerfer) <br>\r\n",
        "Original notebook is here: https://colab.research.google.com/github/AhabbscienceStudioPak/ESRGAN/blob/master/ESRGAN_Colab.ipynb <br>\r\n",
        "A cool notebook to interpolate video ;): https://colab.research.google.com/github/HeylonNHP/RIFE-Colab/blob/main/RIFE_Colab.ipynb"
      ]
    },
    {
      "cell_type": "code",
      "metadata": {
        "id": "vLQl6-mrdq1R"
      },
      "source": [
        "#@title Use this if you want to know which GPU you were assigned { display-mode: \"form\" }\r\n",
        "\r\n",
        "!nvidia-smi"
      ],
      "execution_count": null,
      "outputs": []
    },
    {
      "cell_type": "code",
      "metadata": {
        "id": "6NCi_jLBfGEu"
      },
      "source": [
        "#@title Setup the repository, *check if the dependencies are installed*, etc. { display-mode: \"form\" }\r\n",
        "\r\n",
        "!git clone https://github.com/JoeyBallentine/ESRGAN\r\n",
        "!rm /content/ESRGAN/input/baboon.png\r\n",
        "!rm /content/ESRGAN/output/baboon_ESRGAN.png\r\n",
        "\r\n",
        "#_Dependency Checker\r\n",
        "#_I think I'm to stupid to make a dependency checker, and most of them are already installed so it's probably something not necesary to have\r\n",
        "Iffmpeg = False"
      ],
      "execution_count": null,
      "outputs": []
    },
    {
      "cell_type": "code",
      "metadata": {
        "id": "v6-jqQKGPj2k"
      },
      "source": [
        "#@title Upload your file { display-mode: \"form\" }\r\n",
        "\r\n",
        "!mkdir /content/input/\r\n",
        "%cd /content/input/\r\n",
        "\r\n",
        "from google.colab import files\r\n",
        "uploaded = files.upload() \r\n",
        "for filename in uploaded.keys():\r\n",
        "  print('User uploaded file \"{name}\" with {length} bytes'.format(name=filename, length=len(uploaded[filename])))"
      ],
      "execution_count": null,
      "outputs": []
    },
    {
      "cell_type": "code",
      "metadata": {
        "id": "J-lIfu-JK9f1"
      },
      "source": [
        "#@title Pre-process video file (only if source is a video) { display-mode: \"form\" }\r\n",
        "\r\n",
        "#_Work in progress...\r\n",
        "#_Don't forget to add tile caching\r\n",
        "if Iffmpeg == False:\r\n",
        "  %cd /content/\r\n",
        "  !echo \"Downloading ffmpeg\"\r\n",
        "  !wget https://johnvansickle.com/ffmpeg/releases/ffmpeg-release-amd64-static.tar.xz\r\n",
        "  !tar -xf ffmpeg-release-amd64-static.tar.xz\r\n",
        "  !rm ffmpeg-release-amd64-static.tar.xz\r\n",
        "  ffmpeg = \"/content/ffmpeg-4.3.1-amd64-static/ffmpeg\"\r\n",
        "  ffprobe = \"/content/ffmpeg-4.3.1-amd64-static/ffprobe\"\r\n",
        "  !echo \"FFmpeg downloaded\"\r\n",
        "  Iffmpeg = True\r\n",
        "\r\n",
        "!echo \"Extracting frames\"\r\n",
        "!mkdir /content/video/\r\n",
        "!mv /content/input/*.* /content/video/\r\n",
        "#_Tried to add automatic framerate detection, but I'm too stupid to do it, + I don't know a lot about linux or python\r\n",
        "#!ffprobe -v 0 -of csv=p=0 -select_streams v:0 -show_entries stream=r_frame_rate /content/video/*.* <framerate\r\n",
        "#!echo \"framerate\"\r\n",
        "!ffmpeg -i  /content/video/*.* \"/content/input/%4d.png\"\r\n",
        "!echo \"Done extracting the frames\""
      ],
      "execution_count": null,
      "outputs": []
    },
    {
      "cell_type": "code",
      "metadata": {
        "id": "kVcXRjbbWux4"
      },
      "source": [
        "#@title Upload your model { display-mode: \"form\" }\r\n",
        "\r\n",
        "!rm -rf /content/ESRGAN/models/*.*\r\n",
        "%cd /content/ESRGAN/models\r\n",
        "from google.colab import files\r\n",
        "uploaded = files.upload()\r\n",
        "for filename in uploaded.keys():\r\n",
        "  print('User uploaded model \"{name}\" with {length} bytes'.format(name=filename, length=len(uploaded[filename])))"
      ],
      "execution_count": null,
      "outputs": []
    },
    {
      "cell_type": "code",
      "metadata": {
        "id": "opD14SNpWvRE"
      },
      "source": [
        "#@title Upscale the file(s) { display-mode: \"form\" }\r\n",
        "\r\n",
        "!cp /content/input/*.* /content/ESRGAN/input\r\n",
        "!python /content/ESRGAN/upscale.py /content/ESRGAN/models/*.pth --input /content/ESRGAN/input/ --output /content/ESRGAN/output/\r\n",
        "!mkdir /content/output\r\n",
        "!cp /content/ESRGAN/output/*.* /content/output\r\n",
        "!rm -rf /content/ESRGAN/input/*.*\r\n",
        "!rm -rf /content/ESRGAN/output/*.*"
      ],
      "execution_count": null,
      "outputs": []
    },
    {
      "cell_type": "code",
      "metadata": {
        "id": "4leTyqV3mWRA"
      },
      "source": [
        "#@title Download your image { display-mode: \"form\" }\r\n",
        "\r\n",
        "from google.colab import files\r\n",
        "!zip -r output.zip /content/output\r\n",
        "files.download('output.zip')"
      ],
      "execution_count": null,
      "outputs": []
    },
    {
      "cell_type": "code",
      "metadata": {
        "id": "10OYt0AeLYgJ"
      },
      "source": [
        "#@title Process and download as video { display-mode: \"form\" }\r\n",
        "\r\n",
        "#_Work in progress...\r\n",
        "useNvenc = True #@param{type:\"boolean\"}\r\n",
        "Audio = False #@param{type:\"boolean\"}\r\n",
        "Format = \"mp4\" #@param [\"mp4\",\"mkv\",\"webm\"]\r\n",
        "crf =  20#@param{type:\"number\"}\r\n",
        "Vrate =  10#@param{type:\"number\"} \r\n",
        "\r\n",
        "#_Make video directory\r\n",
        "!mkdir /content/output-video\r\n",
        "\r\n",
        "#_Encode video\r\n",
        "#_You know...something I hate is when things are too complex in a completely unnecesary way\r\n",
        "#_like this, why can't I call a normal command inside a python if statement\r\n",
        "#_it probably needs some sort of thing to call the shell, but all the solutions I found for that are quite over-complex\r\n",
        "#_I will still add it, but for now enjoy your nvenc encoded video with no audio\r\n",
        "#_THANKS PYTHON!!\r\n",
        "#_ :( \r\n",
        "#if useNvenc == True:\r\n",
        "#  if Audio == False:\r\n",
        "#    import os\r\n",
        "#    os.system('...\r\n",
        "!ffmpeg -r $Vrate -i \"/content/output/%4d.png\" -c:v h264_nvenc -preset slow -cq $crf /content/output-video/output.$Format\r\n",
        "#...')\r\n",
        "#  elif Audio == True:\r\n",
        "#    import os\r\n",
        "#    os.system('!ffmpeg -thread_queue_size 1024 -r framerate -i /content/output/%4d.png -i /content/video/*.* -map 0:v -map 1:a -c:v h264_nvenc -preset slow -cq crf -c:a copy /content/output-video/output.mkv')\r\n",
        "#elif useNvenc == False:\r\n",
        "#  if Audio == False:\r\n",
        "#    import os\r\n",
        "#    os.system('!ffmpeg -r framerate -i \"/content/output/%4d.png\" -c:v libx264 -preset veyslow -crf crf /content/output-video/output.Format')\r\n",
        "#  elif Audio == True:\r\n",
        "#    import os\r\n",
        "#    os.system('!ffmpeg -thread_queue_size 1024 -r framerate -i \"/content/output/%4d.png\" -i /content/video/*.* -map 0:v -map 1:a -c:v libx264 -preset veryslow -crf crf -c:a copy /content/output-video/output.mkv')\r\n",
        "\r\n",
        "#_Download video\r\n",
        "from google.colab import files\r\n",
        "!zip -r output.zip /content/output-video\r\n",
        "files.download('output.zip')"
      ],
      "execution_count": null,
      "outputs": []
    },
    {
      "cell_type": "code",
      "metadata": {
        "id": "T6TnCbCgxSm6"
      },
      "source": [
        "#@title Check the video data, use this to identify the fps of your video { display-mode: \"form\" }\r\n",
        "#@markdown To be honest, I hate that I need to add this, but it will take me some time to find out how to auto-detect the framerate\r\n",
        "!ffprobe /content/video/*.*"
      ],
      "execution_count": null,
      "outputs": []
    }
  ]
}